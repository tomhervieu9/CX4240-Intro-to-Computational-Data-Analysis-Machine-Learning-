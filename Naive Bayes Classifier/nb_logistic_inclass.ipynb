{
 "cells": [
  {
   "cell_type": "code",
   "execution_count": 9,
   "metadata": {
    "collapsed": false
   },
   "outputs": [
    {
     "name": "stdout",
     "output_type": "stream",
     "text": [
      "(4225L, 116L) (4225L, 63L)\n"
     ]
    }
   ],
   "source": [
    "import scipy.io as sio \n",
    "import numpy as np\n",
    "import matplotlib.pyplot as plt\n",
    "import show_image\n",
    "from scipy import stats\n",
    "\n",
    "##\n",
    "# load dataset for boys and girls\n",
    "# dividing into 5 equally split datasets for cross validation\n",
    "# choosing five fold split as 10 results in highly uneven splits\n",
    "load1 = sio.loadmat('boys.mat')\n",
    "boys_data = load1['data'].astype(float)\n",
    "load2 = sio.loadmat('girls.mat')\n",
    "girls_data = load2['data'].astype(float) \n",
    "\n",
    "boys_num = boys_data.shape[1]\n",
    "girls_num = girls_data.shape[1]\n",
    "\n",
    "print boys_data.shape, girls_data.shape\n"
   ]
  },
  {
   "cell_type": "code",
   "execution_count": 17,
   "metadata": {
    "collapsed": false
   },
   "outputs": [
    {
     "name": "stdout",
     "output_type": "stream",
     "text": [
      "(4225L, 179L) (1L, 179L)\n",
      "[ 0.35195531]\n"
     ]
    }
   ],
   "source": [
    "X = np.hstack((boys_data, girls_data))\n",
    "\n",
    "y = np.hstack((np.ones((1,boys_num)), np.zeros((1,girls_num))))\n",
    "\n",
    "d = X.shape[0]\n",
    "m = X.shape[1]\n",
    "\n",
    "print X.shape, y.shape\n",
    "\n",
    "print (y == 0).sum(axis=1) / (1.0*m)"
   ]
  },
  {
   "cell_type": "code",
   "execution_count": 20,
   "metadata": {
    "collapsed": true
   },
   "outputs": [],
   "source": [
    "# naive bayes\n",
    "cno = 2\n",
    "\n",
    "# training, learn those parameters in the class conditional. \n",
    "# we have also learned the prior.\n",
    "\n",
    "# estimate prior\n",
    "py = np.zeros(cno)\n",
    "for c in range(cno):\n",
    "    py[c] = (y == c).sum() / (1.0*m)\n"
   ]
  },
  {
   "cell_type": "code",
   "execution_count": 19,
   "metadata": {
    "collapsed": false
   },
   "outputs": [
    {
     "name": "stdout",
     "output_type": "stream",
     "text": [
      "[ 0.35195531  0.64804469]\n"
     ]
    }
   ],
   "source": [
    "print py"
   ]
  },
  {
   "cell_type": "code",
   "execution_count": 21,
   "metadata": {
    "collapsed": true
   },
   "outputs": [],
   "source": [
    "\n",
    "mu_mat = np.zeros((d, cno))\n",
    "sig_mat = np.zeros((d, cno))\n",
    "for i in range(d): \n",
    "    for c in range(cno): \n",
    "        mu_mat[i, c] = X[i, (y==c).flatten()].mean()\n",
    "        sig_mat[i, c] = X[i, (y==c).flatten()].std()"
   ]
  },
  {
   "cell_type": "code",
   "execution_count": 23,
   "metadata": {
    "collapsed": false
   },
   "outputs": [
    {
     "name": "stdout",
     "output_type": "stream",
     "text": [
      "[[ 142.42857143  147.93965517]\n",
      " [ 142.42857143  147.93965517]\n",
      " [ 142.41269841  147.93965517]\n",
      " ..., \n",
      " [ 125.19047619  116.03448276]\n",
      " [ 125.77777778  114.72413793]\n",
      " [ 125.95238095  115.3362069 ]]\n",
      "[[ 19.98309944  23.91302083]\n",
      " [ 19.98309944  23.91302083]\n",
      " [ 19.95362474  23.91302083]\n",
      " ..., \n",
      " [ 69.67449424  66.75326817]\n",
      " [ 72.93276844  68.02415725]\n",
      " [ 75.33363434  69.67312151]]\n"
     ]
    }
   ],
   "source": [
    "print mu_mat\n",
    "print sig_mat"
   ]
  },
  {
   "cell_type": "code",
   "execution_count": 36,
   "metadata": {
    "collapsed": false
   },
   "outputs": [
    {
     "name": "stdout",
     "output_type": "stream",
     "text": [
      "1.0\n",
      "0.0\n"
     ]
    }
   ],
   "source": [
    "# making predictions for each data point in X; \n",
    "predy = np.zeros(m)\n",
    "\n",
    "for j in range(m):\n",
    "    \n",
    "    py_x = np.array([py[0], py[1]])\n",
    "    for c in range(cno):\n",
    "        for i in range(d):\n",
    "            py_x[c] *= np.exp(-(X[i,j] - mu_mat[i,c])**2 / (2*sig_mat[i,c]**2)) / sig_mat[i,c]\n",
    "            \n",
    "    #print py_x\n",
    "    \n",
    "    predy[j] = np.argmax(py_x)\n",
    "    \n",
    "print (predy == 0).sum() / (1.0*m)    \n",
    "print (predy == 1).sum() / (1.0*m)"
   ]
  },
  {
   "cell_type": "code",
   "execution_count": 41,
   "metadata": {
    "collapsed": false
   },
   "outputs": [
    {
     "name": "stdout",
     "output_type": "stream",
     "text": [
      "0.335195530726\n",
      "0.664804469274\n",
      "0.162011173184\n"
     ]
    }
   ],
   "source": [
    "# making predictions for each data point in X; \n",
    "predy = np.zeros(m)\n",
    "\n",
    "for j in range(m):\n",
    "    \n",
    "    log_py_x = np.array([np.log(py[0]), np.log(py[1])])\n",
    "    for c in range(cno):\n",
    "        for i in range(d):\n",
    "            log_py_x[c] += -(X[i,j] - mu_mat[i,c])**2 / (2*sig_mat[i,c]**2) - np.log(sig_mat[i,c])\n",
    "            \n",
    "    # print log_py_x\n",
    "    \n",
    "    predy[j] = np.argmax(log_py_x)\n",
    "    \n",
    "# print predy    \n",
    "    \n",
    "print (predy == 0).sum() / (1.0*m)    \n",
    "print (predy == 1).sum() / (1.0*m)   \n",
    "\n",
    "\n",
    "print np.sum(np.abs(predy - y)) / (1.0*m)"
   ]
  },
  {
   "cell_type": "code",
   "execution_count": 26,
   "metadata": {
    "collapsed": false
   },
   "outputs": [
    {
     "name": "stdout",
     "output_type": "stream",
     "text": [
      "[ 0.35195531  0.64804469]\n"
     ]
    }
   ],
   "source": [
    "print py"
   ]
  },
  {
   "cell_type": "code",
   "execution_count": 61,
   "metadata": {
    "collapsed": false
   },
   "outputs": [],
   "source": [
    "theta = 0.001 * np.random.randn(d,1)\n",
    "\n",
    "T = 1000\n",
    "\n",
    "eta = 0.0000001\n",
    "\n",
    "for t in range(T): \n",
    "    theta_x = np.dot(theta.T, X)\n",
    "    w = np.exp(-theta_x) / (1 + np.exp(-theta_x))\n",
    "    \n",
    "    #print w.shape\n",
    "    #print y.shape\n",
    "    \n",
    "    tmp = (y-1) + w\n",
    "    #print tmp.shape\n",
    "    \n",
    "    gradient = np.dot(X, tmp.T)\n",
    "    \n",
    "    #print gradient.shape\n",
    "    \n",
    "    #print gradient\n",
    "    \n",
    "    theta += eta * gradient"
   ]
  },
  {
   "cell_type": "code",
   "execution_count": 65,
   "metadata": {
    "collapsed": false
   },
   "outputs": [
    {
     "name": "stdout",
     "output_type": "stream",
     "text": [
      "0.351955307263\n",
      "0.648044692737\n",
      "0.0\n"
     ]
    }
   ],
   "source": [
    "predy = np.zeros(m)\n",
    "for j in range(m): \n",
    "    #print X[:,j].shape\n",
    "    #print theta.shape\n",
    "    py1x = 1 / (1 + np.exp(-np.dot(theta.flatten(), X[:,j].flatten())))\n",
    "    if (py1x > 0.5):\n",
    "        predy[j] = 1\n",
    "    else:\n",
    "        predy[j] = 0\n",
    "        \n",
    "print (predy == 0).sum() / (1.0*m)    \n",
    "print (predy == 1).sum() / (1.0*m)   \n",
    "\n",
    "\n",
    "print np.sum(np.abs(predy - y)) / (1.0*m)    "
   ]
  },
  {
   "cell_type": "code",
   "execution_count": 63,
   "metadata": {
    "collapsed": false
   },
   "outputs": [
    {
     "name": "stdout",
     "output_type": "stream",
     "text": [
      "[ 0.  0.  0.  0.  0.  0.  0.  0.  0.  0.  0.  0.  0.  0.  0.  0.  0.  0.\n",
      "  0.  0.  0.  0.  0.  0.  0.  0.  0.  0.  0.  0.  0.  0.  0.  0.  0.  0.\n",
      "  0.  0.  0.  0.  0.  0.  0.  0.  0.  0.  0.  0.  0.  0.  0.  0.  0.  0.\n",
      "  0.  0.  0.  0.  0.  0.  0.  0.  0.  0.  0.  0.  0.  0.  0.  0.  0.  0.\n",
      "  0.  0.  0.  0.  0.  0.  0.  0.  0.  0.  0.  0.  0.  0.  0.  0.  0.  0.\n",
      "  0.  0.  0.  0.  0.  0.  0.  0.  0.  0.  0.  0.  0.  0.  0.  0.  0.  0.\n",
      "  0.  0.  0.  0.  0.  0.  0.  0.  1.  1.  1.  1.  1.  1.  1.  1.  1.  1.\n",
      "  1.  1.  1.  1.  1.  1.  1.  1.  1.  1.  1.  1.  1.  1.  1.  1.  1.  1.\n",
      "  1.  1.  1.  1.  1.  1.  1.  1.  1.  1.  1.  1.  1.  1.  1.  1.  1.  1.\n",
      "  1.  1.  1.  1.  1.  1.  1.  1.  1.  1.  1.  1.  1.  1.  1.  1.  1.]\n"
     ]
    }
   ],
   "source": [
    "print predy"
   ]
  },
  {
   "cell_type": "code",
   "execution_count": 64,
   "metadata": {
    "collapsed": false
   },
   "outputs": [
    {
     "name": "stdout",
     "output_type": "stream",
     "text": [
      "[[ 1.  1.  1.  1.  1.  1.  1.  1.  1.  1.  1.  1.  1.  1.  1.  1.  1.  1.\n",
      "   1.  1.  1.  1.  1.  1.  1.  1.  1.  1.  1.  1.  1.  1.  1.  1.  1.  1.\n",
      "   1.  1.  1.  1.  1.  1.  1.  1.  1.  1.  1.  1.  1.  1.  1.  1.  1.  1.\n",
      "   1.  1.  1.  1.  1.  1.  1.  1.  1.  1.  1.  1.  1.  1.  1.  1.  1.  1.\n",
      "   1.  1.  1.  1.  1.  1.  1.  1.  1.  1.  1.  1.  1.  1.  1.  1.  1.  1.\n",
      "   1.  1.  1.  1.  1.  1.  1.  1.  1.  1.  1.  1.  1.  1.  1.  1.  1.  1.\n",
      "   1.  1.  1.  1.  1.  1.  1.  1.  0.  0.  0.  0.  0.  0.  0.  0.  0.  0.\n",
      "   0.  0.  0.  0.  0.  0.  0.  0.  0.  0.  0.  0.  0.  0.  0.  0.  0.  0.\n",
      "   0.  0.  0.  0.  0.  0.  0.  0.  0.  0.  0.  0.  0.  0.  0.  0.  0.  0.\n",
      "   0.  0.  0.  0.  0.  0.  0.  0.  0.  0.  0.  0.  0.  0.  0.  0.  0.]]\n"
     ]
    }
   ],
   "source": [
    "print y"
   ]
  },
  {
   "cell_type": "code",
   "execution_count": null,
   "metadata": {
    "collapsed": true
   },
   "outputs": [],
   "source": []
  }
 ],
 "metadata": {
  "kernelspec": {
   "display_name": "Python [conda root]",
   "language": "python",
   "name": "conda-root-py"
  },
  "language_info": {
   "codemirror_mode": {
    "name": "ipython",
    "version": 2
   },
   "file_extension": ".py",
   "mimetype": "text/x-python",
   "name": "python",
   "nbconvert_exporter": "python",
   "pygments_lexer": "ipython2",
   "version": "2.7.12"
  }
 },
 "nbformat": 4,
 "nbformat_minor": 1
}
